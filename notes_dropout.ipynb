{
 "cells": [
  {
   "cell_type": "code",
   "execution_count": 169,
   "metadata": {},
   "outputs": [],
   "source": [
    "import torch"
   ]
  },
  {
   "cell_type": "code",
   "execution_count": 170,
   "metadata": {},
   "outputs": [
    {
     "name": "stdout",
     "output_type": "stream",
     "text": [
      "tensor([1.])\n",
      "torch.Size([1])\n"
     ]
    }
   ],
   "source": [
    "p = torch.Tensor([0.5])\n",
    "r = torch.bernoulli(input=p)\n",
    "\n",
    "print(r)\n",
    "print(r.shape)"
   ]
  },
  {
   "cell_type": "code",
   "execution_count": 171,
   "metadata": {},
   "outputs": [
    {
     "name": "stdout",
     "output_type": "stream",
     "text": [
      "tensor([[0.1954, 0.3021, 0.7284,  ..., 0.8377, 0.9948, 0.4682],\n",
      "        [0.4862, 0.8821, 0.3231,  ..., 0.4625, 0.7741, 0.2495],\n",
      "        [0.7443, 0.1966, 0.5096,  ..., 0.1827, 0.0737, 0.2609],\n",
      "        ...,\n",
      "        [0.2714, 0.2442, 0.3432,  ..., 0.0886, 0.8730, 0.5972],\n",
      "        [0.5106, 0.0736, 0.8899,  ..., 0.9220, 0.8114, 0.7118],\n",
      "        [0.9563, 0.4086, 0.9481,  ..., 0.3755, 0.4273, 0.6412]])\n"
     ]
    }
   ],
   "source": [
    "x = torch.rand((64, 16))\n",
    "print(x)"
   ]
  },
  {
   "cell_type": "code",
   "execution_count": 172,
   "metadata": {},
   "outputs": [
    {
     "name": "stdout",
     "output_type": "stream",
     "text": [
      "tensor([[1., 0., 1.,  ..., 0., 1., 0.],\n",
      "        [1., 0., 1.,  ..., 1., 0., 0.],\n",
      "        [1., 1., 1.,  ..., 1., 1., 0.],\n",
      "        ...,\n",
      "        [1., 1., 1.,  ..., 1., 1., 0.],\n",
      "        [1., 1., 0.,  ..., 0., 0., 0.],\n",
      "        [1., 1., 0.,  ..., 0., 1., 1.]])\n",
      "torch.Size([64, 16])\n"
     ]
    }
   ],
   "source": [
    "x = torch.rand((64, 16))\n",
    "probs = torch.ones_like(x) * p\n",
    "r = torch.bernoulli(probs)\n",
    "print(r)\n",
    "print(r.shape)"
   ]
  },
  {
   "cell_type": "code",
   "execution_count": 173,
   "metadata": {},
   "outputs": [
    {
     "name": "stdout",
     "output_type": "stream",
     "text": [
      "tensor([[0.9174, 0.0000, 0.4360,  ..., 0.0000, 0.2725, 0.0000],\n",
      "        [0.6742, 0.0000, 0.4429,  ..., 0.6216, 0.0000, 0.0000],\n",
      "        [0.3199, 0.6182, 0.6572,  ..., 0.9681, 0.8221, 0.0000],\n",
      "        ...,\n",
      "        [0.9149, 0.0789, 0.9458,  ..., 0.2666, 0.2809, 0.0000],\n",
      "        [0.3710, 0.3810, 0.0000,  ..., 0.0000, 0.0000, 0.0000],\n",
      "        [0.4793, 0.8719, 0.0000,  ..., 0.0000, 0.4489, 0.6243]])\n",
      "torch.Size([64, 16])\n"
     ]
    }
   ],
   "source": [
    "x_hat = x * r\n",
    "print(x_hat)\n",
    "print(x_hat.shape)"
   ]
  },
  {
   "cell_type": "code",
   "execution_count": null,
   "metadata": {},
   "outputs": [],
   "source": [
    "x_hat = torch.mul(x, r) \n",
    "print(x_hat)\n",
    "print(x_hat.shape)"
   ]
  }
 ],
 "metadata": {
  "kernelspec": {
   "display_name": "Python 3",
   "language": "python",
   "name": "python3"
  },
  "language_info": {
   "codemirror_mode": {
    "name": "ipython",
    "version": 3
   },
   "file_extension": ".py",
   "mimetype": "text/x-python",
   "name": "python",
   "nbconvert_exporter": "python",
   "pygments_lexer": "ipython3",
   "version": "3.12.9"
  }
 },
 "nbformat": 4,
 "nbformat_minor": 2
}
